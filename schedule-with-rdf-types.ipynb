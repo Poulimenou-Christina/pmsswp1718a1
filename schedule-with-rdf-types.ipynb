
import csv
triplelist = []

with open('nea1.csv','r',newline='') as ifp:
    reader = csv.reader(ifp)
        
    for row in reader:
        triplelist.append(row)
        

newtriple=[]
for s,p,o in triplelist:
    p='<'+p+'>'
         
    if p == '<http://dilab77.ionio.gr/swp/c17poul/vocab#Ημέρα>':
        o = '"'+o+'"'
        newtriple.append([s,'<http://www.w3.org/1999/02/22-rdf-syntax-ns#type>','<http://dilab77.ionio.gr/swp/c17poul/vocab#Lecture>'])
    elif p == '<http://dilab77.ionio.gr/swp/c17poul/vocab#Εναρξη>'or p == '<http://dilab77.ionio.gr/swp/c17poul/vocab#Λήξη>':
        o = '"'+o+':00"^^<http://www.w3.org/2001/XMLSchema#time>' 
    elif p == '<http://dilab77.ionio.gr/swp/c17poul/vocab#Καθηγητης>':
        o = '<'+o+'>'
        newtriple.append([o,'<http://www.w3.org/1999/02/22-rdf-syntax-ns#type>','<http://dilab77.ionio.gr/swp/c17poul/vocab#Teacher>'])
    elif p == '<http://dilab77.ionio.gr/swp/c17poul/vocab#Μαθημα>':
        o = '<'+o+'>'        
        newtriple.append([o,'<http://www.w3.org/1999/02/22-rdf-syntax-ns#type>','<http://dilab77.ionio.gr/swp/c17poul/vocab#Course>'])  
    elif p == '<http://dilab77.ionio.gr/swp/c17poul/vocab#Αιθουσα>':
        o = '<'+o+'>'
        newtriple.append([o,'<http://www.w3.org/1999/02/22-rdf-syntax-ns#type>','<http://dilab77.ionio.gr/swp/c17poul/vocab#Room>'])    
    else:
        o = '<'+o+'>'
    newtriple.append([s,p,o])
    
  
    with open('schedule-data.nt','w') as ofp:
        for s,p,o in newtriple:
            ofp.write(s+' '+p+' '+o+'.\n')
            
         

!riot --validate schedule-data.nt
!riot --validate schedule-vocab.ttl
