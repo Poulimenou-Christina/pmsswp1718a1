{
 "cells": [
  {
   "cell_type": "markdown",
   "metadata": {},
   "source": [
    "# Notebook για την παραγωγή των δεδομένων N-Triples (εργασία μαθήματος).\n",
    "\n",
    "Χρησιμοποιήστε κώδικα από τα notebooks προηγούμενων εργαστηρίων με τις κατάλληλες αλλαγές για να συμπληρώσετε το ζητούμενο αρχείο `schedule-data.nt` της εργασίας του μαθήματος. Μην ξεχάσετε να εισάγετε τις τριάδες με το κατηγόρημα `rdf:type`!\n",
    "\n",
    "Προσθέστε τον κώδικά σας στα επόμενα κελιά."
   ]
  },
  {
   "cell_type": "code",
   "execution_count": null,
   "metadata": {
    "collapsed": true
   },
   "outputs": [],
   "source": []
  }
 ],
 "metadata": {
  "kernelspec": {
   "display_name": "Python 3",
   "language": "python",
   "name": "python3"
  },
  "language_info": {
   "codemirror_mode": {
    "name": "ipython",
    "version": 3
   },
   "file_extension": ".py",
   "mimetype": "text/x-python",
   "name": "python",
   "nbconvert_exporter": "python",
   "pygments_lexer": "ipython3",
   "version": "3.4.4"
  }
 },
 "nbformat": 4,
 "nbformat_minor": 0
}
# γράφει τα δεδομένα του csv αρχείου σε μια λίστα

import csv
triplelist = []

with open('nea1.csv','r',newline='') as ifp:
    reader = csv.reader(ifp)
        
    for row in reader:
        triplelist.append(row)
        
# μετατροπή των στοιχείων της λίστας σύμφωνα με τη σύνταξη RDF

newtriple=[]
for s,p,o in triplelist:
    p='<'+p+'>'
         
    if p == '<http://dilab77.ionio.gr/swp/c17poul/vocab#Ημέρα>':
        o = '"'+o+'"'
        newtriple.append([s,'<http://www.w3.org/1999/02/22-rdf-syntax-ns#type>','<http://dilab77.ionio.gr/swp/c17poul/vocab#Lecture>'])
    elif p == '<http://dilab77.ionio.gr/swp/c17poul/vocab#Εναρξη>'or p == '<http://dilab77.ionio.gr/swp/c17poul/vocab#Λήξη>':
        o = '"'+o+':00"^^<http://www.w3.org/2001/XMLSchema#time>' 
    elif p == '<http://dilab77.ionio.gr/swp/c17poul/vocab#Καθηγητης>':
        o = '<'+o+'>'
        newtriple.append([o,'<http://www.w3.org/1999/02/22-rdf-syntax-ns#type>','<http://dilab77.ionio.gr/swp/c17poul/vocab#Teacher>'])
    elif p == '<http://dilab77.ionio.gr/swp/c17poul/vocab#Μαθημα>':
        o = '<'+o+'>'        
        newtriple.append([o,'<http://www.w3.org/1999/02/22-rdf-syntax-ns#type>','<http://dilab77.ionio.gr/swp/c17poul/vocab#Course>'])  
    elif p == '<http://dilab77.ionio.gr/swp/c17poul/vocab#Αιθουσα>':
        o = '<'+o+'>'
        newtriple.append([o,'<http://www.w3.org/1999/02/22-rdf-syntax-ns#type>','<http://dilab77.ionio.gr/swp/c17poul/vocab#Room>'])    
    else:
        o = '<'+o+'>'
    newtriple.append([s,p,o])
    
# εμφανιση καθε στοιχειου της λιστας σε αλλη γραμμη
#for i in newtriple: 
   # print (i) 

#Δημιουργία του αρχείου shcedule-data.nt   
    with open('schedule-data.nt','w') as ofp:
        for s,p,o in newtriple:
            ofp.write(s+' '+p+' '+o+'.\n')
            
# εξετάζει την εγκυρότητα των αρχείων .nt και .ttl            

!riot --validate schedule-data.nt
!riot --validate schedule-vocab.ttl
